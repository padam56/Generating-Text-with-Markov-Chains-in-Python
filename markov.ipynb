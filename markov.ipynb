{
 "cells": [
  {
   "cell_type": "markdown",
   "metadata": {},
   "source": [
    "Text Generation with Markov Chains in Python\n",
    "============================================"
   ]
  },
  {
   "cell_type": "code",
   "execution_count": 1,
   "metadata": {},
   "outputs": [
    {
     "name": "stdout",
     "output_type": "stream",
     "text": [
      "THE GOLDEN BIRD\n",
      "\n",
      "A certain king had a beautiful garden, and in the garden stood a tree\n",
      "which bore golden apples. These apples were always counted, and about\n",
      "the time when they began to grow ripe it was found that every night one\n",
      "of them was gone. The king became very angry at this, and ordered the\n",
      "gardener to keep watch all night under the tree. The gardener set his\n",
      "eldest son to watch; but about twelve o’clock he fell asleep, and in\n",
      "the morning another of the apples was missing. Then the second\n"
     ]
    }
   ],
   "source": [
    "files = ['text/grimm_tales.txt']\n",
    "\n",
    "text = \"\"\n",
    "for f in files:\n",
    "    with open(f, 'r') as f:\n",
    "        text += f.read()\n",
    "print(text[:500])"
   ]
  },
  {
   "cell_type": "markdown",
   "metadata": {},
   "source": [
    "Weather as a Markov Chain\n",
    "-------------------------\n",
    "\n",
    "![alt text](images/markov_weather.png \"Weather\")\n",
    "\n",
    "Matrix representation (rows are current state, columns are next state):\n",
    "\n",
    "| | Sunny | Cloudy | Rainy |\n",
    "| --- | --- | --- | --- |\n",
    "| **Sunny** | 0.6 | 0.1 | 0.3 |\n",
    "| **Cloudy** | 0.3 | 0.3 | 0.4 |\n",
    "| **Rainy** | 0.3 | 0.2 | 0.5 |\n"
   ]
  },
  {
   "cell_type": "markdown",
   "metadata": {},
   "source": [
    "Text as a Markov Chain\n",
    "----------------------\n",
    "\n",
    "**The cat ran over the dog.**\n",
    "\n",
    "![alt text](images/markov_text1.png \"Text\")\n",
    "\n",
    "Matrix representation (rows are current state, columns are next state):\n",
    "\n",
    "| | the | cat | ran | over | dog | . |\n",
    "| --- | --- | --- | --- | --- | --- | --- |\n",
    "| **the** | 0 | 0.5 | 0 | 0 | 0.5 | 0 |\n",
    "| **cat** | 0 | 0 | 1 | 0 | 0 | 0 |\n",
    "| **ran** | 0 | 0 | 0 | 1 | 0 | 0 |\n",
    "| **over** | 1 | 0 | 0 | 0 | 0 | 0 |\n",
    "| **dog** | 0 | 0 | 0 | 0 | 0 | 1 |\n",
    "| **.** | 0 | 0 | 0 | 0 | 0 | 1 |\n",
    "\n"
   ]
  },
  {
   "cell_type": "markdown",
   "metadata": {},
   "source": [
    "Define states as the distinct word tokens"
   ]
  },
  {
   "cell_type": "code",
   "execution_count": 2,
   "metadata": {},
   "outputs": [],
   "source": [
    "import re\n",
    "text = re.sub(\"[^A-z,.!?'\\n ]+\", \"\", text)\n",
    "text = re.sub(\"([.,!?])\", r\" \\1 \", text)   #Resulting in much better tokenization\n",
    "tokens = text.lower().split()\n",
    "distinct_states = list(set(tokens)) #casting tokens to a set and then cast back to a list"
   ]
  },
  {
   "cell_type": "markdown",
   "metadata": {},
   "source": [
    "Define transition matrix"
   ]
  },
  {
   "cell_type": "code",
   "execution_count": 3,
   "metadata": {},
   "outputs": [],
   "source": [
    "# Here, we need to create data structures to hold our transistion matrix.\n",
    "# So, if we were use to Numpy array, we could easily run out of memory.\n",
    "# There can be many distinct words in a book, hence we need a very large transistion matrix.\n",
    "# But thankfully, many of the entries will be zero as we saw in the sentence example above. \n",
    "# So, we can use a sparse array and this will store the non-zero entries in a very compact manner.\n",
    "\n",
    "from scipy.sparse import csr_matrix #csr = compressed sparse row \n",
    "m = csr_matrix(\n",
    "    (len(distinct_states), len(distinct_states)),\n",
    "    dtype = int\n",
    ")\n",
    "state_index = dict(\n",
    "    [(state, idx_num) for idx_num, state in enumerate(distinct_states)] #using python list comprehension\n",
    ")"
   ]
  },
  {
   "cell_type": "markdown",
   "metadata": {},
   "source": [
    "Count transitions and fill in transition matrix"
   ]
  },
  {
   "cell_type": "code",
   "execution_count": 4,
   "metadata": {},
   "outputs": [
    {
     "name": "stderr",
     "output_type": "stream",
     "text": [
      "/home/rhyme/.local/lib/python3.6/site-packages/scipy/sparse/_index.py:84: SparseEfficiencyWarning: Changing the sparsity structure of a csr_matrix is expensive. lil_matrix is more efficient.\n",
      "  self._set_intXint(row, col, x.flat[0])\n"
     ]
    }
   ],
   "source": [
    "for i in range(len(tokens)-1): #Since, we need not to worry about the last terminal state.\n",
    "    row = state_index[tokens[i]] #Holding the current state\n",
    "    col = state_index[tokens[i+1]] #State transitioning to next\n",
    "    m[row,col] += 1"
   ]
  },
  {
   "cell_type": "markdown",
   "metadata": {},
   "source": [
    "Generate new text"
   ]
  },
  {
   "cell_type": "code",
   "execution_count": 5,
   "metadata": {},
   "outputs": [
    {
     "name": "stdout",
     "output_type": "stream",
     "text": [
      "Falada, and the wood, on with fatigue.\n",
      "\n",
      "So afraid, my apples were fast asleep.\n",
      "\n",
      "As he took her in the braids of the evil on the little maiden held her the poodle dog with no objection, we wish i did not that they were proud of the water, the queer, and he left side of the cat sitting in large dewdrop, thinking what these words that was now go again in my wife liked it fell to dance, all the other they were to himself on to the sparrow flew open it set his companions said hansel said the wind, she drove them will you shall suffer him, give me!\n",
      "\n",
      "\n"
     ]
    }
   ],
   "source": [
    "import numpy as np\n",
    "\n",
    "start_state_index = np.random.randint(len(distinct_states))\n",
    "state = distinct_states[start_state_index]\n",
    "num_sentences = 0\n",
    "output = state.capitalize()\n",
    "capitalize = False\n",
    "\n",
    "while num_sentences < 3:\n",
    "    row = m[state_index[state], :]\n",
    "    probabilities = row / row.sum()\n",
    "    probabilities = probabilities.toarray()[0]\n",
    "    \n",
    "    next_state_index = np.random.choice( #allows to sample according to probability distribution\n",
    "        len(distinct_states),\n",
    "        1,\n",
    "        p = probabilities\n",
    "    )\n",
    "    next_state = distinct_states[next_state_index[0]]\n",
    "    \n",
    "    #Tokenizing our punctuation\n",
    "    if next_state in ('.', '!', '?'):\n",
    "        output += next_state + '\\n\\n'\n",
    "        capitalize = True\n",
    "        num_sentences += 1\n",
    "    elif next_state == \",\":\n",
    "        output += next_state #ending o/p without a space\n",
    "    else:\n",
    "        if capitalize:\n",
    "            output += next_state.capitalize()\n",
    "            capitalize = False\n",
    "        else:\n",
    "            output += \" \" + next_state\n",
    "            \n",
    "    state = next_state\n",
    "print(output)"
   ]
  },
  {
   "cell_type": "markdown",
   "metadata": {},
   "source": [
    "The format of the output is much better now, but the content is not great. One property of markov chain is that the next thing that happens only depends on the current state. So, that's why the grammar is so poor. Any two consecutive words makes sense together but then the next word over might not have any relation to that pair. So, one thing we can do to improve the result is to redefine the meaning of state to include the current token and the previous token. Here, down below, any 3 consecutive words will be related to each other and have the right grammar instead of just every pair of words and that could improve the grammar dramatically. We are going to call this a 2-Token/Word Markov Chain, since our states has 2 words in it."
   ]
  },
  {
   "cell_type": "markdown",
   "metadata": {},
   "source": [
    "k-Word Markov Chain\n",
    "-------------------\n",
    "\n",
    "**The cat ran over the dog.**\n",
    "\n",
    "![alt text](images/markov_text2.png \"Text\")\n",
    "\n",
    "Matrix representation (rows are current state, columns are next state):\n",
    "\n",
    "| | the cat | cat ran | ran over | over the | the dog | dog. |\n",
    "| --- | --- | --- | --- | --- | --- | --- |\n",
    "| **the cat**  | 0 | 1 | 0 | 0 | 0 | 0 |\n",
    "| **cat ran**  | 0 | 0 | 1 | 0 | 0 | 0 |\n",
    "| **ran over** | 0 | 0 | 0 | 1 | 0 | 0 |\n",
    "| **over the** | 0 | 0 | 0 | 0 | 1 | 0 |\n",
    "| **the dog**  | 0 | 0 | 0 | 0 | 0 | 1 |\n",
    "| **dog.**     | 0 | 0 | 0 | 0 | 0 | 1 |\n",
    "\n"
   ]
  },
  {
   "cell_type": "markdown",
   "metadata": {},
   "source": [
    "Define states as consecutive token pairs"
   ]
  },
  {
   "cell_type": "code",
   "execution_count": 6,
   "metadata": {},
   "outputs": [],
   "source": [
    "k = 2\n",
    "tokens = text.lower().split()\n",
    "#Here, we want to use states as keys in a dictonary but you can't use a list as a dictionary key. You must need something immutable. So, you can just cast that to a tuple.  \n",
    "states = [tuple(tokens[i:i+k]) for i in range(len(tokens)-k+1)]\n",
    "distinct_states = list(set(states))"
   ]
  },
  {
   "cell_type": "markdown",
   "metadata": {},
   "source": [
    "Define and fill transition matrix"
   ]
  },
  {
   "cell_type": "code",
   "execution_count": 7,
   "metadata": {},
   "outputs": [
    {
     "name": "stderr",
     "output_type": "stream",
     "text": [
      "/home/rhyme/.local/lib/python3.6/site-packages/scipy/sparse/_index.py:84: SparseEfficiencyWarning: Changing the sparsity structure of a csr_matrix is expensive. lil_matrix is more efficient.\n",
      "  self._set_intXint(row, col, x.flat[0])\n"
     ]
    }
   ],
   "source": [
    "from scipy.sparse import csr_matrix\n",
    "m = csr_matrix(\n",
    "    (len(distinct_states), len(distinct_states)),\n",
    "    dtype=int\n",
    ")\n",
    "state_index = dict(\n",
    "    [(state, idx_num) for idx_num, state in enumerate(distinct_states)]\n",
    ")\n",
    "\n",
    "for i in range(len(tokens)-k):\n",
    "    state = tuple(tokens[i:i+k])\n",
    "    next_state = tuple(tokens[i+1:i+1+k])\n",
    "    row = state_index[state]\n",
    "    col = state_index[next_state]\n",
    "    m[row,col] += 1"
   ]
  },
  {
   "cell_type": "markdown",
   "metadata": {},
   "source": [
    "Generate new text"
   ]
  },
  {
   "cell_type": "code",
   "execution_count": 8,
   "metadata": {},
   "outputs": [
    {
     "name": "stdout",
     "output_type": "stream",
     "text": [
      "Be able to add considerably to their brother, and the cow and taking the pig was either bred or born but he was the matter.\n",
      "\n",
      "There, and went her way.\n",
      "\n",
      "So the brothers agreed that this golden slipper upon the ground, and yet i can have it so, to bring away such a youth has never harmed anyone?\n",
      "\n",
      "\n"
     ]
    }
   ],
   "source": [
    "import numpy as np\n",
    "\n",
    "start_state_index = np.random.randint(len(distinct_states))\n",
    "state = distinct_states[start_state_index]\n",
    "num_sentences = 0\n",
    "output = ' '.join(state).capitalize() #Since state is a tuple of tokens, we need to join these into a string.\n",
    "capitalize = False\n",
    "\n",
    "while num_sentences < 3:\n",
    "    row = m[state_index[state], :]\n",
    "    probabilities = row / row.sum()\n",
    "    probabilities = probabilities.toarray()[0]\n",
    "    \n",
    "    next_state_index = np.random.choice(\n",
    "        len(distinct_states),\n",
    "        1,\n",
    "        p = probabilities\n",
    "    )\n",
    "    next_state = distinct_states[next_state_index[0]]\n",
    "    \n",
    "    if next_state[-1] in ('.', '!', '?'):\n",
    "        output += next_state[-1] + '\\n\\n'\n",
    "        capitalize = True\n",
    "        num_sentences += 1\n",
    "    elif next_state[-1] == \",\":\n",
    "        output += next_state[-1]\n",
    "    else:\n",
    "        if capitalize:\n",
    "            output += next_state[-1].capitalize()\n",
    "            capitalize = False\n",
    "        else:\n",
    "            output += \" \" + next_state[-1]\n",
    "            \n",
    "    state = next_state\n",
    "print(output)"
   ]
  }
 ],
 "metadata": {
  "kernelspec": {
   "display_name": "Python 3",
   "language": "python",
   "name": "python3"
  },
  "language_info": {
   "codemirror_mode": {
    "name": "ipython",
    "version": 3
   },
   "file_extension": ".py",
   "mimetype": "text/x-python",
   "name": "python",
   "nbconvert_exporter": "python",
   "pygments_lexer": "ipython3",
   "version": "3.8.8"
  }
 },
 "nbformat": 4,
 "nbformat_minor": 4
}
